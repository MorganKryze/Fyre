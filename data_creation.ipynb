{
 "cells": [
  {
   "cell_type": "markdown",
   "metadata": {},
   "source": [
    "# Data creation\n",
    "\n",
    "This jupyter notebook is used to create the data for the project. The different plots will be stored inside the folder `assets/plots` and displayed through the app."
   ]
  },
  {
   "cell_type": "code",
   "execution_count": 2,
   "metadata": {},
   "outputs": [],
   "source": [
    "import matplotlib.pyplot as plt\n",
    "import io"
   ]
  },
  {
   "cell_type": "code",
   "execution_count": 6,
   "metadata": {},
   "outputs": [
    {
     "name": "stderr",
     "output_type": "stream",
     "text": [
      "/var/folders/8j/z6p__gj900sdsdj4fgbxm6xm0000gn/T/ipykernel_19886/1469162463.py:1: MatplotlibDeprecationWarning: Auto-close()ing of figures upon backend switching is deprecated since 3.8 and will be removed two minor releases later.  To suppress this warning, explicitly call plt.close('all') first.\n",
      "  plt.switch_backend(\"Agg\")  # Switch to Agg backend\n"
     ]
    }
   ],
   "source": [
    "plt.switch_backend(\"Agg\")  # Switch to Agg backend\n",
    "plt.plot(range(10))\n",
    "plt.title(\"Simple Plot for demo purpose\")\n",
    "fig = plt.gcf()\n",
    "fig.patch.set_facecolor(\"none\")\n",
    "fig.patch.set_alpha(0)\n",
    "# Save the figure to a BytesIO object\n",
    "buf = io.BytesIO()\n",
    "fig.savefig(\"assets/plots/test.svg\", format=\"svg\", transparent=True)\n",
    "\n",
    "plt.figure()  # Create a new figure\n",
    "plt.plot(range(10, 20))  # Plot some data\n",
    "plt.title(\"Second Plot for demo purpose\")  # Set the title\n",
    "fig2 = plt.gcf()  # Get the current figure\n",
    "fig2.patch.set_facecolor(\"none\")  # Set the facecolor\n",
    "fig2.patch.set_alpha(0)  # Set the alpha\n",
    "# Save the figure to a BytesIO object\n",
    "buf2 = io.BytesIO()\n",
    "fig2.savefig(\"assets/plots/test2.svg\", format=\"svg\", transparent=True)"
   ]
  }
 ],
 "metadata": {
  "kernelspec": {
   "display_name": "django-project",
   "language": "python",
   "name": "python3"
  },
  "language_info": {
   "codemirror_mode": {
    "name": "ipython",
    "version": 3
   },
   "file_extension": ".py",
   "mimetype": "text/x-python",
   "name": "python",
   "nbconvert_exporter": "python",
   "pygments_lexer": "ipython3",
   "version": "3.9.18"
  }
 },
 "nbformat": 4,
 "nbformat_minor": 2
}
