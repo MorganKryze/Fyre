{
 "cells": [
  {
   "cell_type": "markdown",
   "metadata": {},
   "source": [
    "# Data creation\n",
    "\n",
    "This jupyter notebook is used to create the data for the project. The different plots will be stored inside the folder `assets/plots` and displayed through the app."
   ]
  },
  {
   "cell_type": "code",
   "execution_count": 1,
   "metadata": {},
   "outputs": [],
   "source": [
    "import matplotlib.pyplot as plt\n",
    "import io"
   ]
  },
  {
   "cell_type": "code",
   "execution_count": 2,
   "metadata": {},
   "outputs": [],
   "source": [
    "\n",
    "plt.switch_backend(\"Agg\")  # Switch to Agg backend\n",
    "plt.plot(range(10))\n",
    "plt.title(\"Simple Plot for demo purpose\")\n",
    "fig = plt.gcf()\n",
    "fig.patch.set_facecolor(\"none\")\n",
    "fig.patch.set_alpha(0)\n",
    "# Save the figure to a BytesIO object\n",
    "buf = io.BytesIO()\n",
    "fig.savefig(\"assets/plots/test.svg\", format=\"svg\", transparent=True)"
   ]
  }
 ],
 "metadata": {
  "kernelspec": {
   "display_name": "django-project",
   "language": "python",
   "name": "python3"
  },
  "language_info": {
   "codemirror_mode": {
    "name": "ipython",
    "version": 3
   },
   "file_extension": ".py",
   "mimetype": "text/x-python",
   "name": "python",
   "nbconvert_exporter": "python",
   "pygments_lexer": "ipython3",
   "version": "3.9.18"
  }
 },
 "nbformat": 4,
 "nbformat_minor": 2
}
